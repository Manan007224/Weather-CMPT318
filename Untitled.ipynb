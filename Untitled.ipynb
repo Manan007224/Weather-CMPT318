{
 "cells": [
  {
   "cell_type": "code",
   "execution_count": 25,
   "metadata": {
    "collapsed": false
   },
   "outputs": [],
   "source": [
    "import numpy as np\n",
    "import pandas as pd\n",
    "from sklearn.linear_model import LinearRegression\n",
    "from sklearn.tree import DecisionTreeRegressor\n",
    "import matplotlib.pyplot as plt\n",
    "from sklearn.model_selection import train_test_split,cross_val_score\n",
    "import os \n",
    "import mglearn\n",
    "import re\n",
    "import datetime\n",
    "%matplotlib inline"
   ]
  },
  {
   "cell_type": "code",
   "execution_count": 74,
   "metadata": {
    "collapsed": false,
    "scrolled": true
   },
   "outputs": [
    {
     "name": "stdout",
     "output_type": "stream",
     "text": [
      "<class 'pandas.core.frame.DataFrame'>\n",
      "RangeIndex: 744 entries, 0 to 743\n",
      "Data columns (total 13 columns):\n",
      "Date/Time              744 non-null object\n",
      "Year                   744 non-null int64\n",
      "Month                  744 non-null int64\n",
      "Day                    744 non-null int64\n",
      "Time                   744 non-null object\n",
      "Data Quality           744 non-null object\n",
      "Temp (°C)              744 non-null float64\n",
      "Dew Point Temp (°C)    744 non-null float64\n",
      "Rel Hum (%)            744 non-null int64\n",
      "Wind Dir (10s deg)     743 non-null float64\n",
      "Wind Spd (km/h)        744 non-null int64\n",
      "Visibility (km)        744 non-null float64\n",
      "Stn Press (kPa)        744 non-null float64\n",
      "dtypes: float64(5), int64(5), object(3)\n",
      "memory usage: 75.6+ KB\n"
     ]
    }
   ],
   "source": [
    "WEATHER_DIR = './weather'\n",
    "#weather_filenames = os.listdir(WEATHER_DIR)\n",
    "sample_filename =  os.path.join(WEATHER_DIR,'weather-51442-201605.csv')\n",
    "\n",
    "sample_file = open(sample_filename,'r')\n",
    "\n",
    "data = pd.read_csv(sample_filename,skiprows=range(16))\n",
    "\n",
    "c = [i for i in data.columns if data.loc[:,i].count() != 0 and i!='Weather' and i!= 'Hmdx']\n",
    "data = data[c]\n",
    "\n",
    "data.info()"
   ]
  },
  {
   "cell_type": "code",
   "execution_count": 81,
   "metadata": {
    "collapsed": false
   },
   "outputs": [],
   "source": [
    "f = lambda x : datetime.time(int(x[:2]),0,0)\n",
    "x = list(map(f,data['Time']))\n",
    "first_day_time = data[data['Day']==1]"
   ]
  },
  {
   "cell_type": "code",
   "execution_count": 96,
   "metadata": {
    "collapsed": false
   },
   "outputs": [
    {
     "data": {
      "text/plain": [
       "<matplotlib.collections.PathCollection at 0x1094cf8d0>"
      ]
     },
     "execution_count": 96,
     "metadata": {},
     "output_type": "execute_result"
    },
    {
     "data": {
      "image/png": "[encoded data removed]",
      "text/plain": [
       "<matplotlib.figure.Figure at 0x10a7ae7b8>"
      ]
     },
     "metadata": {},
     "output_type": "display_data"
    }
   ],
   "source": [
    "plt.scatter(list(map(f,first_day_time['Time'])),first_day_time['Temp (°C)'],c='Blue')\n",
    "plt.scatter(list(map(f,first_day_time['Time'])),first_day_time['Dew Point Temp (°C)'],c='Orange')"
   ]
  },
  {
   "cell_type": "code",
   "execution_count": null,
   "metadata": {
    "collapsed": true
   },
   "outputs": [],
   "source": []
  }
 ],
 "metadata": {
  "kernelspec": {
   "display_name": "Python 3",
   "language": "python",
   "name": "python3"
  },
  "language_info": {
   "codemirror_mode": {
    "name": "ipython",
    "version": 3
   },
   "file_extension": ".py",
   "mimetype": "text/x-python",
   "name": "python",
   "nbconvert_exporter": "python",
   "pygments_lexer": "ipython3",
   "version": "3.6.2"
  }
 },
 "nbformat": 4,
 "nbformat_minor": 2
}
